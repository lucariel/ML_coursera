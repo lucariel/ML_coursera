{
 "cells": [
  {
   "cell_type": "code",
   "execution_count": 1,
   "metadata": {},
   "outputs": [],
   "source": [
    "#Logistic Regression Python\n",
    "import numpy as np\n",
    "import pandas as pd\n",
    "import os\n",
    "import matplotlib.pyplot as plt"
   ]
  },
  {
   "cell_type": "code",
   "execution_count": 15,
   "metadata": {},
   "outputs": [],
   "source": [
    "##Preparing Data (1)\n",
    "path = os.getcwd()+\"/Documents/ML Coursera/ml-class-ex1/ex1/Python-Version/\"\n",
    "column_names =  ['exam1','exam2','accepted']\n",
    "data = pd.read_csv('ex2data1.txt', sep=\",\", header=None, names = column_names)\n",
    "data['x0'] = 1"
   ]
  },
  {
   "cell_type": "code",
   "execution_count": 20,
   "metadata": {},
   "outputs": [],
   "source": [
    "##Preparing Data (1) {Initialization of variables}\n",
    "X = data.iloc[:,[3,0,1]]\n",
    "y = np.array(data.iloc[:,2])\n",
    "theta = np.array([0,0,0])\n",
    "iterations = 1500\n",
    "alpha = 0.01"
   ]
  },
  {
   "cell_type": "code",
   "execution_count": 33,
   "metadata": {},
   "outputs": [
    {
     "data": {
      "text/plain": [
       "0.6931471805599452"
      ]
     },
     "execution_count": 33,
     "metadata": {},
     "output_type": "execute_result"
    }
   ],
   "source": [
    "def sigmoid(z):\n",
    "    g = 1/(1+np.e**(-z))\n",
    "    return g;\n",
    "\n",
    "\n",
    "def costFunction(X, y, theta):\n",
    "    m = len(X)\n",
    "    h = sigmoid(np.dot(X,theta))\n",
    "    l = (1/m)*((np.dot(-np.transpose(y),np.log(h)))-(np.dot(np.transpose(1-y),np.log(1-h))))\n",
    "    return l;\n",
    "\n",
    "costFunction(X, y, theta)#For initial parameter <- 0.6931471805599452 (OK)\n"
   ]
  },
  {
   "cell_type": "code",
   "execution_count": 37,
   "metadata": {},
   "outputs": [
    {
     "data": {
      "text/plain": [
       "array([-29.99604185,   0.23675871,   0.23161717])"
      ]
     },
     "execution_count": 37,
     "metadata": {},
     "output_type": "execute_result"
    }
   ],
   "source": [
    "def gradientDescent(X, y, theta, alpha, num_iter):\n",
    "    m = len(y)\n",
    "    for i in range(0, num_iter):\n",
    "        h = sigmoid(np.dot(X,theta))\n",
    "        theta = theta - (alpha/m)*np.dot(np.transpose(X), (h-y))\n",
    "    return(theta)\n",
    "    \n",
    "\n",
    "gradientDescent(X,y,theta, 0.005, 500000)\n"
   ]
  }
 ],
 "metadata": {
  "kernelspec": {
   "display_name": "Python 3",
   "language": "python",
   "name": "python3"
  },
  "language_info": {
   "codemirror_mode": {
    "name": "ipython",
    "version": 3
   },
   "file_extension": ".py",
   "mimetype": "text/x-python",
   "name": "python",
   "nbconvert_exporter": "python",
   "pygments_lexer": "ipython3",
   "version": "3.7.2"
  }
 },
 "nbformat": 4,
 "nbformat_minor": 2
}
