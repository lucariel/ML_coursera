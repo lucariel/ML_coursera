{
 "cells": [
  {
   "cell_type": "code",
   "execution_count": null,
   "metadata": {},
   "outputs": [],
   "source": [
    "#Ex 5 ML Coursera"
   ]
  },
  {
   "cell_type": "code",
   "execution_count": 14,
   "metadata": {},
   "outputs": [],
   "source": [
    "import numpy as np\n",
    "import pandas as pd\n",
    "import os\n",
    "import matplotlib.pyplot as plt\n",
    "import math\n",
    "from sklearn import svm\n",
    "import scipy.io\n",
    "from scipy.optimize import fmin_cg"
   ]
  },
  {
   "cell_type": "code",
   "execution_count": 51,
   "metadata": {},
   "outputs": [],
   "source": [
    "####=========== Part 1: Loading and Visualizing Data =============\n",
    "\n",
    "\n",
    "##Loading data and create basis vars\n",
    "data = scipy.io.loadmat('ex5data1.mat')\n",
    "X = pd.DataFrame(data[\"X\"])\n",
    "y = pd.DataFrame(data[\"y\"])\n",
    "Xval = pd.DataFrame(data[\"Xval\"])\n",
    "yval = pd.DataFrame(data[\"yval\"])\n",
    "Xtest = pd.DataFrame(data[\"Xtest\"])\n",
    "ytest = pd.DataFrame(data[\"ytest\"])"
   ]
  },
  {
   "cell_type": "code",
   "execution_count": 17,
   "metadata": {},
   "outputs": [
    {
     "data": {
      "text/plain": [
       "<matplotlib.collections.PathCollection at 0x7fd95c125b70>"
      ]
     },
     "execution_count": 17,
     "metadata": {},
     "output_type": "execute_result"
    },
    {
     "data": {
      "image/png": "[encoded data removed]",
      "text/plain": [
       "<Figure size 432x288 with 1 Axes>"
      ]
     },
     "metadata": {
      "needs_background": "light"
     },
     "output_type": "display_data"
    }
   ],
   "source": [
    "#Visualization of data\n",
    "plt.scatter(X,y)"
   ]
  },
  {
   "cell_type": "code",
   "execution_count": 56,
   "metadata": {},
   "outputs": [],
   "source": [
    "Xn = X\n",
    "Xnval = Xval\n",
    "theta = np.array([1,1])"
   ]
  },
  {
   "cell_type": "code",
   "execution_count": 53,
   "metadata": {},
   "outputs": [],
   "source": [
    "Xn.insert(0,\"x0\",1)\n",
    "Xnval.insert(0,\"x0\",1)"
   ]
  },
  {
   "cell_type": "code",
   "execution_count": 134,
   "metadata": {},
   "outputs": [
    {
     "name": "stdout",
     "output_type": "stream",
     "text": [
      "Optimization terminated successfully.\n",
      "         Current function value: 22.379542\n",
      "         Iterations: 2\n",
      "         Function evaluations: 5\n",
      "         Gradient evaluations: 5\n"
     ]
    },
    {
     "data": {
      "text/plain": [
       "array([13.08771416,  0.367742  ])"
      ]
     },
     "execution_count": 134,
     "metadata": {},
     "output_type": "execute_result"
    }
   ],
   "source": [
    "#=========== Part 2: Regularized Linear Regression Cost =============\n",
    "linearRegCostFunction_J(Xn, y, 1)(theta)\n",
    "#=========== Part 3: Regularized Linear Regression Gradient =============\n",
    "linearRegCostFunction_G(Xn, y, 1)(theta)\n",
    "#=========== Part 4: Train Linear Regression =============\n",
    "thetas_lg=trainLinearReg(Xn, y, 1) "
   ]
  },
  {
   "cell_type": "code",
   "execution_count": 135,
   "metadata": {},
   "outputs": [
    {
     "data": {
      "text/plain": [
       "array([13.08771416,  0.367742  ])"
      ]
     },
     "execution_count": 135,
     "metadata": {},
     "output_type": "execute_result"
    }
   ],
   "source": [
    "#==============Appendix = Necessary Functions =========================\n",
    "def linearRegCostFunction_J(X, y, l):\n",
    "    def J_func(theta):\n",
    "        m = len(X)\n",
    "        sqrErrors = np.square(np.dot(X,theta)-np.array(y).ravel())\n",
    "        J = (1/(2*m))*sum(sqrErrors)\n",
    "        theta_reg = np.array(theta)\n",
    "        theta_reg = np.square(theta_reg)\n",
    "        theta_reg[0]=0\n",
    "        theta_reg = sum(theta_reg)\n",
    "        reg = (l/(2*m))*theta_reg\n",
    "        J = J+reg\n",
    "        return(J)\n",
    "    return J_func\n",
    "\n",
    "def linearRegCostFunction_G(X,y,l):\n",
    "    def grad_func(theta):\n",
    "        m = len(X)\n",
    "        theta_reg = np.array(theta)\n",
    "        theta_reg[0] = 0\n",
    "        error = np.dot(X,theta)-np.array(y).ravel()\n",
    "        grad = (1/m)*np.dot(np.transpose(error),Xn)+(l/m)*theta_reg\n",
    "        return grad\n",
    "    return grad_func\n",
    "\n",
    "def trainLinearReg(X,y,l):\n",
    "    incostFunction=linearRegCostFunction_J(X, y, l)\n",
    "    ingradFunction=linearRegCostFunction_G(X, y, l)\n",
    "    init_theta = np.repeat(0, X.shape[1])\n",
    "    opt = fmin_cg(incostFunction, init_theta,ingradFunction)\n",
    "    return opt\n"
   ]
  }
 ],
 "metadata": {
  "kernelspec": {
   "display_name": "Python 3",
   "language": "python",
   "name": "python3"
  },
  "language_info": {
   "codemirror_mode": {
    "name": "ipython",
    "version": 3
   },
   "file_extension": ".py",
   "mimetype": "text/x-python",
   "name": "python",
   "nbconvert_exporter": "python",
   "pygments_lexer": "ipython3",
   "version": "3.7.2"
  }
 },
 "nbformat": 4,
 "nbformat_minor": 2
}
