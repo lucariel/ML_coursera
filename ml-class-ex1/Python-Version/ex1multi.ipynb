{
 "cells": [
  {
   "cell_type": "code",
   "execution_count": 2,
   "metadata": {},
   "outputs": [],
   "source": [
    "###ex1multi\n",
    "import numpy as np\n",
    "import pandas as pd\n",
    "import os\n",
    "import matplotlib.pyplot as plt\n"
   ]
  },
  {
   "cell_type": "code",
   "execution_count": 28,
   "metadata": {},
   "outputs": [],
   "source": [
    "path = os.getcwd()+\"/Documents/ML Coursera/ml-class-ex1/ex1/Python-Version/\"\n",
    "os.getcwd()\n",
    "column_names = ['size','rooms','price']\n",
    "\n",
    "data = pd.read_csv('ex1data2.txt', sep=\",\", header=None, names = column_names)\n",
    "\n"
   ]
  },
  {
   "cell_type": "code",
   "execution_count": 78,
   "metadata": {},
   "outputs": [],
   "source": [
    "data['x0'] = 1\n",
    "#print(data)\n",
    "X = data.iloc[:,[3,0,1]]\n",
    "#print(X)\n",
    "y = np.array(data.iloc[:,2])\n",
    "#print(y)\n",
    "theta = np.array([0,0,0])\n",
    "iterations = 1500\n",
    "alpha = 0.01"
   ]
  },
  {
   "cell_type": "code",
   "execution_count": 79,
   "metadata": {},
   "outputs": [],
   "source": [
    "#Cost Function already for n variables\n",
    "def costFunction(X, y, theta):\n",
    "    m = len(X)\n",
    "    predictions = np.dot(X,theta)\n",
    "    sqrErrors = np.array((predictions-y))**2\n",
    "    J = 1/(2*m)*np.sum(sqrErrors)\n",
    "    return J;"
   ]
  },
  {
   "cell_type": "code",
   "execution_count": 81,
   "metadata": {},
   "outputs": [
    {
     "name": "stderr",
     "output_type": "stream",
     "text": [
      "/home/lucariel/anaconda3/lib/python3.7/site-packages/pandas/core/indexing.py:543: SettingWithCopyWarning: \n",
      "A value is trying to be set on a copy of a slice from a DataFrame.\n",
      "Try using .loc[row_indexer,col_indexer] = value instead\n",
      "\n",
      "See the caveats in the documentation: http://pandas.pydata.org/pandas-docs/stable/indexing.html#indexing-view-versus-copy\n",
      "  self.obj[item] = s\n"
     ]
    }
   ],
   "source": [
    "##Normalization of variables\n",
    "X.iloc[:,1] = (X.iloc[:,1]-np.mean(X.iloc[:,1]))/np.std(X.iloc[:,1])\n",
    "X.iloc[:,2] = (X.iloc[:,2]-np.mean(X.iloc[:,2]))/np.std(X.iloc[:,2])\n",
    "y=(y-np.mean(y))/np.std(y)\n"
   ]
  },
  {
   "cell_type": "code",
   "execution_count": 104,
   "metadata": {},
   "outputs": [],
   "source": [
    "def gradientDescent(X, y, theta, alpha, num_iter):\n",
    "    m= len(X)\n",
    "    for i in range(0, num_iter):\n",
    "        theta = np.array(theta-np.transpose(alpha/m*np.dot(np.array(np.dot(X,theta)-y),X)))\n",
    "    return costFunction(X, y, theta)\n"
   ]
  },
  {
   "cell_type": "code",
   "execution_count": 106,
   "metadata": {},
   "outputs": [
    {
     "name": "stdout",
     "output_type": "stream",
     "text": [
      "0.13352766477132916\n"
     ]
    }
   ],
   "source": [
    "print(gradientDescent(X,y,theta,0.01, 1500))\n"
   ]
  },
  {
   "cell_type": "code",
   "execution_count": 113,
   "metadata": {},
   "outputs": [
    {
     "data": {
      "text/plain": [
       "array([-2.08166817e-17,  8.84765988e-01, -5.31788197e-02])"
      ]
     },
     "execution_count": 113,
     "metadata": {},
     "output_type": "execute_result"
    }
   ],
   "source": [
    "#Normal Eq\n",
    "theta=np.dot(np.dot(np.linalg.inv(np.dot(np.transpose(X),X)),np.transpose(X)),y)\n"
   ]
  }
 ],
 "metadata": {
  "kernelspec": {
   "display_name": "Python 3",
   "language": "python",
   "name": "python3"
  },
  "language_info": {
   "codemirror_mode": {
    "name": "ipython",
    "version": 3
   },
   "file_extension": ".py",
   "mimetype": "text/x-python",
   "name": "python",
   "nbconvert_exporter": "python",
   "pygments_lexer": "ipython3",
   "version": "3.7.2"
  }
 },
 "nbformat": 4,
 "nbformat_minor": 2
}
