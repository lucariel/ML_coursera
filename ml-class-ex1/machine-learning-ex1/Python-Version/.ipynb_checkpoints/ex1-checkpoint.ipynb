{
 "cells": [
  {
   "cell_type": "code",
   "execution_count": 45,
   "metadata": {},
   "outputs": [],
   "source": [
    "import numpy as np\n",
    "import pandas as pd\n",
    "import os\n",
    "import matplotlib.pyplot as plt\n",
    "\n",
    "path = os.getcwd()+\"/Documents/ML Coursera/ml-class-ex1/ex1/Python-Version/\"\n",
    "os.getcwd()\n",
    "\n",
    "#data = open(os.listdir(os.getcwd())[0]).read()\n",
    "column_names = ['population','profit']\n",
    "data = pd.read_csv('ex1data1.txt', sep=\",\", header=None, names = column_names)\n",
    "#data.iloc[0:1,0:3]\n",
    "#data.plot.scatter(x='population',\n",
    "#                  y='profit',\n",
    "#                  c='red')\n",
    "\n",
    "#Add a column of ones to x\n",
    "data['x0'] = 1\n",
    "X = data.iloc[:,[2,0]]\n",
    "y = np.array(data.iloc[:,1])\n",
    "theta = np.array([0,0])\n",
    "iterations = 1500\n",
    "alpha = 0.01\n",
    "\n",
    "def costFunction(X, y, theta):\n",
    "    m = len(X)\n",
    "    predictions = np.dot(X,theta)\n",
    "    sqrErrors = np.array((predictions-y))**2\n",
    "    J = 1/(2*m)*np.sum(sqrErrors)\n",
    "    return J;\n",
    "\n",
    "\n",
    "#def gradientDescent(X, y, theta, alpha, num_iter):\n",
    "#    m= len(X)\n",
    "#    for i in range(0, num_iter):\n",
    "#        temp0 = \n"
   ]
  },
  {
   "cell_type": "code",
   "execution_count": 46,
   "metadata": {},
   "outputs": [],
   "source": [
    "def gradientDescent(X, y, theta, alpha, num_iter):\n",
    "    m= len(X)\n",
    "    for i in range(0, num_iter):\n",
    "        temp0 = theta[0]-(alpha/m)*sum((np.dot(X,theta)-y)*X.iloc[:,0])\n",
    "        temp1 = theta[1]-(alpha/m)*sum((np.dot(X,theta)-y)*X.iloc[:,1])\n",
    "        theta = np.array([temp0,temp1])\n",
    "        costFunction(X, y, theta)\n",
    "    print(costFunction(X, y, theta))\n",
    "    "
   ]
  },
  {
   "cell_type": "code",
   "execution_count": 47,
   "metadata": {},
   "outputs": [
    {
     "name": "stdout",
     "output_type": "stream",
     "text": [
      "5.479975580535112\n"
     ]
    }
   ],
   "source": [
    "gradientDescent(X,y,theta,0.01, 100)\n"
   ]
  }
 ],
 "metadata": {
  "kernelspec": {
   "display_name": "Python 3",
   "language": "python",
   "name": "python3"
  },
  "language_info": {
   "codemirror_mode": {
    "name": "ipython",
    "version": 3
   },
   "file_extension": ".py",
   "mimetype": "text/x-python",
   "name": "python",
   "nbconvert_exporter": "python",
   "pygments_lexer": "ipython3",
   "version": "3.7.2"
  }
 },
 "nbformat": 4,
 "nbformat_minor": 2
}
